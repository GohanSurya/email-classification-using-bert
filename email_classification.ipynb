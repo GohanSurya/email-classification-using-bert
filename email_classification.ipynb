{
 "cells": [
  {
   "cell_type": "markdown",
   "id": "17acf895",
   "metadata": {},
   "source": [
    "# installing files"
   ]
  },
  {
   "cell_type": "code",
   "execution_count": 1,
   "id": "101bf159",
   "metadata": {
    "collapsed": true
   },
   "outputs": [
    {
     "name": "stdout",
     "output_type": "stream",
     "text": [
      "Defaulting to user installation because normal site-packages is not writeable\n",
      "Requirement already satisfied: tensorflow in ./.local/lib/python3.8/site-packages (2.7.0)\n",
      "Requirement already satisfied: termcolor>=1.1.0 in ./.local/lib/python3.8/site-packages (from tensorflow) (1.1.0)\n",
      "Requirement already satisfied: protobuf>=3.9.2 in ./.local/lib/python3.8/site-packages (from tensorflow) (3.19.4)\n",
      "Requirement already satisfied: flatbuffers<3.0,>=1.12 in ./.local/lib/python3.8/site-packages (from tensorflow) (2.0)\n",
      "Requirement already satisfied: numpy>=1.14.5 in /usr/local/anaconda/lib/python3.8/site-packages (from tensorflow) (1.20.1)\n",
      "Requirement already satisfied: tensorflow-estimator<2.8,~=2.7.0rc0 in ./.local/lib/python3.8/site-packages (from tensorflow) (2.7.0)\n",
      "Requirement already satisfied: h5py>=2.9.0 in /usr/local/anaconda/lib/python3.8/site-packages (from tensorflow) (2.10.0)\n",
      "Requirement already satisfied: wrapt>=1.11.0 in /usr/local/anaconda/lib/python3.8/site-packages (from tensorflow) (1.12.1)\n",
      "Requirement already satisfied: tensorflow-io-gcs-filesystem>=0.21.0 in ./.local/lib/python3.8/site-packages (from tensorflow) (0.23.1)\n",
      "Requirement already satisfied: opt-einsum>=2.3.2 in ./.local/lib/python3.8/site-packages (from tensorflow) (3.3.0)\n",
      "Requirement already satisfied: six>=1.12.0 in /usr/local/anaconda/lib/python3.8/site-packages (from tensorflow) (1.15.0)\n",
      "Requirement already satisfied: gast<0.5.0,>=0.2.1 in ./.local/lib/python3.8/site-packages (from tensorflow) (0.4.0)\n",
      "Requirement already satisfied: typing-extensions>=3.6.6 in /usr/local/anaconda/lib/python3.8/site-packages (from tensorflow) (3.7.4.3)\n",
      "Requirement already satisfied: libclang>=9.0.1 in ./.local/lib/python3.8/site-packages (from tensorflow) (13.0.0)\n",
      "Requirement already satisfied: keras<2.8,>=2.7.0rc0 in ./.local/lib/python3.8/site-packages (from tensorflow) (2.7.0)\n",
      "Requirement already satisfied: keras-preprocessing>=1.1.1 in ./.local/lib/python3.8/site-packages (from tensorflow) (1.1.2)\n",
      "Requirement already satisfied: google-pasta>=0.1.1 in ./.local/lib/python3.8/site-packages (from tensorflow) (0.2.0)\n",
      "Requirement already satisfied: wheel<1.0,>=0.32.0 in /usr/local/anaconda/lib/python3.8/site-packages (from tensorflow) (0.36.2)\n",
      "Requirement already satisfied: absl-py>=0.4.0 in ./.local/lib/python3.8/site-packages (from tensorflow) (1.0.0)\n",
      "Requirement already satisfied: grpcio<2.0,>=1.24.3 in ./.local/lib/python3.8/site-packages (from tensorflow) (1.43.0)\n",
      "Requirement already satisfied: tensorboard~=2.6 in ./.local/lib/python3.8/site-packages (from tensorflow) (2.8.0)\n",
      "Requirement already satisfied: astunparse>=1.6.0 in ./.local/lib/python3.8/site-packages (from tensorflow) (1.6.3)\n",
      "Requirement already satisfied: markdown>=2.6.8 in ./.local/lib/python3.8/site-packages (from tensorboard~=2.6->tensorflow) (3.3.6)\n",
      "Requirement already satisfied: requests<3,>=2.21.0 in /usr/local/anaconda/lib/python3.8/site-packages (from tensorboard~=2.6->tensorflow) (2.25.1)\n",
      "Requirement already satisfied: tensorboard-data-server<0.7.0,>=0.6.0 in ./.local/lib/python3.8/site-packages (from tensorboard~=2.6->tensorflow) (0.6.1)\n",
      "Requirement already satisfied: google-auth-oauthlib<0.5,>=0.4.1 in ./.local/lib/python3.8/site-packages (from tensorboard~=2.6->tensorflow) (0.4.6)\n",
      "Requirement already satisfied: google-auth<3,>=1.6.3 in ./.local/lib/python3.8/site-packages (from tensorboard~=2.6->tensorflow) (2.6.0)\n",
      "Requirement already satisfied: setuptools>=41.0.0 in /usr/local/anaconda/lib/python3.8/site-packages (from tensorboard~=2.6->tensorflow) (52.0.0.post20210125)\n",
      "Requirement already satisfied: werkzeug>=0.11.15 in /usr/local/anaconda/lib/python3.8/site-packages (from tensorboard~=2.6->tensorflow) (1.0.1)\n",
      "Requirement already satisfied: tensorboard-plugin-wit>=1.6.0 in ./.local/lib/python3.8/site-packages (from tensorboard~=2.6->tensorflow) (1.8.1)\n",
      "Requirement already satisfied: pyasn1-modules>=0.2.1 in ./.local/lib/python3.8/site-packages (from google-auth<3,>=1.6.3->tensorboard~=2.6->tensorflow) (0.2.8)\n",
      "Requirement already satisfied: cachetools<6.0,>=2.0.0 in ./.local/lib/python3.8/site-packages (from google-auth<3,>=1.6.3->tensorboard~=2.6->tensorflow) (5.0.0)\n",
      "Requirement already satisfied: rsa<5,>=3.1.4 in ./.local/lib/python3.8/site-packages (from google-auth<3,>=1.6.3->tensorboard~=2.6->tensorflow) (4.8)\n",
      "Requirement already satisfied: requests-oauthlib>=0.7.0 in ./.local/lib/python3.8/site-packages (from google-auth-oauthlib<0.5,>=0.4.1->tensorboard~=2.6->tensorflow) (1.3.1)\n",
      "Requirement already satisfied: importlib-metadata>=4.4 in ./.local/lib/python3.8/site-packages (from markdown>=2.6.8->tensorboard~=2.6->tensorflow) (4.10.1)\n",
      "Requirement already satisfied: zipp>=0.5 in /usr/local/anaconda/lib/python3.8/site-packages (from importlib-metadata>=4.4->markdown>=2.6.8->tensorboard~=2.6->tensorflow) (3.4.1)\n",
      "Requirement already satisfied: pyasn1<0.5.0,>=0.4.6 in ./.local/lib/python3.8/site-packages (from pyasn1-modules>=0.2.1->google-auth<3,>=1.6.3->tensorboard~=2.6->tensorflow) (0.4.8)\n",
      "Requirement already satisfied: urllib3<1.27,>=1.21.1 in /usr/local/anaconda/lib/python3.8/site-packages (from requests<3,>=2.21.0->tensorboard~=2.6->tensorflow) (1.26.4)\n",
      "Requirement already satisfied: certifi>=2017.4.17 in /usr/local/anaconda/lib/python3.8/site-packages (from requests<3,>=2.21.0->tensorboard~=2.6->tensorflow) (2020.12.5)\n",
      "Requirement already satisfied: chardet<5,>=3.0.2 in /usr/local/anaconda/lib/python3.8/site-packages (from requests<3,>=2.21.0->tensorboard~=2.6->tensorflow) (4.0.0)\n",
      "Requirement already satisfied: idna<3,>=2.5 in /usr/local/anaconda/lib/python3.8/site-packages (from requests<3,>=2.21.0->tensorboard~=2.6->tensorflow) (2.10)\n",
      "Requirement already satisfied: oauthlib>=3.0.0 in ./.local/lib/python3.8/site-packages (from requests-oauthlib>=0.7.0->google-auth-oauthlib<0.5,>=0.4.1->tensorboard~=2.6->tensorflow) (3.2.0)\n"
     ]
    }
   ],
   "source": [
    "!pip install tensorflow"
   ]
  },
  {
   "cell_type": "code",
   "execution_count": 2,
   "id": "bb5f29cd",
   "metadata": {
    "collapsed": true
   },
   "outputs": [
    {
     "name": "stdout",
     "output_type": "stream",
     "text": [
      "Defaulting to user installation because normal site-packages is not writeable\n",
      "Requirement already satisfied: tensorflow_hub in ./.local/lib/python3.8/site-packages (0.12.0)\n",
      "Requirement already satisfied: numpy>=1.12.0 in /usr/local/anaconda/lib/python3.8/site-packages (from tensorflow_hub) (1.20.1)\n",
      "Requirement already satisfied: protobuf>=3.8.0 in ./.local/lib/python3.8/site-packages (from tensorflow_hub) (3.19.4)\n"
     ]
    }
   ],
   "source": [
    "!pip install tensorflow_hub"
   ]
  },
  {
   "cell_type": "code",
   "execution_count": 3,
   "id": "693658c0",
   "metadata": {
    "collapsed": true
   },
   "outputs": [
    {
     "name": "stdout",
     "output_type": "stream",
     "text": [
      "Defaulting to user installation because normal site-packages is not writeable\n",
      "Requirement already satisfied: tensorflow_text in ./.local/lib/python3.8/site-packages (2.7.3)\n",
      "Requirement already satisfied: tensorflow<2.8,>=2.7.0 in ./.local/lib/python3.8/site-packages (from tensorflow_text) (2.7.0)\n",
      "Requirement already satisfied: tensorflow-hub>=0.8.0 in ./.local/lib/python3.8/site-packages (from tensorflow_text) (0.12.0)\n",
      "Requirement already satisfied: google-pasta>=0.1.1 in ./.local/lib/python3.8/site-packages (from tensorflow<2.8,>=2.7.0->tensorflow_text) (0.2.0)\n",
      "Requirement already satisfied: gast<0.5.0,>=0.2.1 in ./.local/lib/python3.8/site-packages (from tensorflow<2.8,>=2.7.0->tensorflow_text) (0.4.0)\n",
      "Requirement already satisfied: six>=1.12.0 in /usr/local/anaconda/lib/python3.8/site-packages (from tensorflow<2.8,>=2.7.0->tensorflow_text) (1.15.0)\n",
      "Requirement already satisfied: wrapt>=1.11.0 in /usr/local/anaconda/lib/python3.8/site-packages (from tensorflow<2.8,>=2.7.0->tensorflow_text) (1.12.1)\n",
      "Requirement already satisfied: tensorflow-io-gcs-filesystem>=0.21.0 in ./.local/lib/python3.8/site-packages (from tensorflow<2.8,>=2.7.0->tensorflow_text) (0.23.1)\n",
      "Requirement already satisfied: tensorboard~=2.6 in ./.local/lib/python3.8/site-packages (from tensorflow<2.8,>=2.7.0->tensorflow_text) (2.8.0)\n",
      "Requirement already satisfied: opt-einsum>=2.3.2 in ./.local/lib/python3.8/site-packages (from tensorflow<2.8,>=2.7.0->tensorflow_text) (3.3.0)\n",
      "Requirement already satisfied: libclang>=9.0.1 in ./.local/lib/python3.8/site-packages (from tensorflow<2.8,>=2.7.0->tensorflow_text) (13.0.0)\n",
      "Requirement already satisfied: astunparse>=1.6.0 in ./.local/lib/python3.8/site-packages (from tensorflow<2.8,>=2.7.0->tensorflow_text) (1.6.3)\n",
      "Requirement already satisfied: wheel<1.0,>=0.32.0 in /usr/local/anaconda/lib/python3.8/site-packages (from tensorflow<2.8,>=2.7.0->tensorflow_text) (0.36.2)\n",
      "Requirement already satisfied: termcolor>=1.1.0 in ./.local/lib/python3.8/site-packages (from tensorflow<2.8,>=2.7.0->tensorflow_text) (1.1.0)\n",
      "Requirement already satisfied: grpcio<2.0,>=1.24.3 in ./.local/lib/python3.8/site-packages (from tensorflow<2.8,>=2.7.0->tensorflow_text) (1.43.0)\n",
      "Requirement already satisfied: h5py>=2.9.0 in /usr/local/anaconda/lib/python3.8/site-packages (from tensorflow<2.8,>=2.7.0->tensorflow_text) (2.10.0)\n",
      "Requirement already satisfied: protobuf>=3.9.2 in ./.local/lib/python3.8/site-packages (from tensorflow<2.8,>=2.7.0->tensorflow_text) (3.19.4)\n",
      "Requirement already satisfied: tensorflow-estimator<2.8,~=2.7.0rc0 in ./.local/lib/python3.8/site-packages (from tensorflow<2.8,>=2.7.0->tensorflow_text) (2.7.0)\n",
      "Requirement already satisfied: keras<2.8,>=2.7.0rc0 in ./.local/lib/python3.8/site-packages (from tensorflow<2.8,>=2.7.0->tensorflow_text) (2.7.0)\n",
      "Requirement already satisfied: absl-py>=0.4.0 in ./.local/lib/python3.8/site-packages (from tensorflow<2.8,>=2.7.0->tensorflow_text) (1.0.0)\n",
      "Requirement already satisfied: numpy>=1.14.5 in /usr/local/anaconda/lib/python3.8/site-packages (from tensorflow<2.8,>=2.7.0->tensorflow_text) (1.20.1)\n",
      "Requirement already satisfied: keras-preprocessing>=1.1.1 in ./.local/lib/python3.8/site-packages (from tensorflow<2.8,>=2.7.0->tensorflow_text) (1.1.2)\n",
      "Requirement already satisfied: flatbuffers<3.0,>=1.12 in ./.local/lib/python3.8/site-packages (from tensorflow<2.8,>=2.7.0->tensorflow_text) (2.0)\n",
      "Requirement already satisfied: typing-extensions>=3.6.6 in /usr/local/anaconda/lib/python3.8/site-packages (from tensorflow<2.8,>=2.7.0->tensorflow_text) (3.7.4.3)\n",
      "Requirement already satisfied: setuptools>=41.0.0 in /usr/local/anaconda/lib/python3.8/site-packages (from tensorboard~=2.6->tensorflow<2.8,>=2.7.0->tensorflow_text) (52.0.0.post20210125)\n",
      "Requirement already satisfied: tensorboard-data-server<0.7.0,>=0.6.0 in ./.local/lib/python3.8/site-packages (from tensorboard~=2.6->tensorflow<2.8,>=2.7.0->tensorflow_text) (0.6.1)\n",
      "Requirement already satisfied: google-auth-oauthlib<0.5,>=0.4.1 in ./.local/lib/python3.8/site-packages (from tensorboard~=2.6->tensorflow<2.8,>=2.7.0->tensorflow_text) (0.4.6)\n",
      "Requirement already satisfied: requests<3,>=2.21.0 in /usr/local/anaconda/lib/python3.8/site-packages (from tensorboard~=2.6->tensorflow<2.8,>=2.7.0->tensorflow_text) (2.25.1)\n",
      "Requirement already satisfied: werkzeug>=0.11.15 in /usr/local/anaconda/lib/python3.8/site-packages (from tensorboard~=2.6->tensorflow<2.8,>=2.7.0->tensorflow_text) (1.0.1)\n",
      "Requirement already satisfied: markdown>=2.6.8 in ./.local/lib/python3.8/site-packages (from tensorboard~=2.6->tensorflow<2.8,>=2.7.0->tensorflow_text) (3.3.6)\n",
      "Requirement already satisfied: google-auth<3,>=1.6.3 in ./.local/lib/python3.8/site-packages (from tensorboard~=2.6->tensorflow<2.8,>=2.7.0->tensorflow_text) (2.6.0)\n",
      "Requirement already satisfied: tensorboard-plugin-wit>=1.6.0 in ./.local/lib/python3.8/site-packages (from tensorboard~=2.6->tensorflow<2.8,>=2.7.0->tensorflow_text) (1.8.1)\n",
      "Requirement already satisfied: pyasn1-modules>=0.2.1 in ./.local/lib/python3.8/site-packages (from google-auth<3,>=1.6.3->tensorboard~=2.6->tensorflow<2.8,>=2.7.0->tensorflow_text) (0.2.8)\n",
      "Requirement already satisfied: cachetools<6.0,>=2.0.0 in ./.local/lib/python3.8/site-packages (from google-auth<3,>=1.6.3->tensorboard~=2.6->tensorflow<2.8,>=2.7.0->tensorflow_text) (5.0.0)\n",
      "Requirement already satisfied: rsa<5,>=3.1.4 in ./.local/lib/python3.8/site-packages (from google-auth<3,>=1.6.3->tensorboard~=2.6->tensorflow<2.8,>=2.7.0->tensorflow_text) (4.8)\n",
      "Requirement already satisfied: requests-oauthlib>=0.7.0 in ./.local/lib/python3.8/site-packages (from google-auth-oauthlib<0.5,>=0.4.1->tensorboard~=2.6->tensorflow<2.8,>=2.7.0->tensorflow_text) (1.3.1)\n",
      "Requirement already satisfied: importlib-metadata>=4.4 in ./.local/lib/python3.8/site-packages (from markdown>=2.6.8->tensorboard~=2.6->tensorflow<2.8,>=2.7.0->tensorflow_text) (4.10.1)\n",
      "Requirement already satisfied: zipp>=0.5 in /usr/local/anaconda/lib/python3.8/site-packages (from importlib-metadata>=4.4->markdown>=2.6.8->tensorboard~=2.6->tensorflow<2.8,>=2.7.0->tensorflow_text) (3.4.1)\n",
      "Requirement already satisfied: pyasn1<0.5.0,>=0.4.6 in ./.local/lib/python3.8/site-packages (from pyasn1-modules>=0.2.1->google-auth<3,>=1.6.3->tensorboard~=2.6->tensorflow<2.8,>=2.7.0->tensorflow_text) (0.4.8)\n",
      "Requirement already satisfied: idna<3,>=2.5 in /usr/local/anaconda/lib/python3.8/site-packages (from requests<3,>=2.21.0->tensorboard~=2.6->tensorflow<2.8,>=2.7.0->tensorflow_text) (2.10)\n",
      "Requirement already satisfied: certifi>=2017.4.17 in /usr/local/anaconda/lib/python3.8/site-packages (from requests<3,>=2.21.0->tensorboard~=2.6->tensorflow<2.8,>=2.7.0->tensorflow_text) (2020.12.5)\n",
      "Requirement already satisfied: urllib3<1.27,>=1.21.1 in /usr/local/anaconda/lib/python3.8/site-packages (from requests<3,>=2.21.0->tensorboard~=2.6->tensorflow<2.8,>=2.7.0->tensorflow_text) (1.26.4)\n",
      "Requirement already satisfied: chardet<5,>=3.0.2 in /usr/local/anaconda/lib/python3.8/site-packages (from requests<3,>=2.21.0->tensorboard~=2.6->tensorflow<2.8,>=2.7.0->tensorflow_text) (4.0.0)\n",
      "Requirement already satisfied: oauthlib>=3.0.0 in ./.local/lib/python3.8/site-packages (from requests-oauthlib>=0.7.0->google-auth-oauthlib<0.5,>=0.4.1->tensorboard~=2.6->tensorflow<2.8,>=2.7.0->tensorflow_text) (3.2.0)\n"
     ]
    }
   ],
   "source": [
    "!pip install tensorflow_text"
   ]
  },
  {
   "cell_type": "markdown",
   "id": "f9557d57",
   "metadata": {},
   "source": [
    "# preprocessing data"
   ]
  },
  {
   "cell_type": "code",
   "execution_count": 4,
   "id": "c55a4d4c",
   "metadata": {},
   "outputs": [],
   "source": [
    "import tensorflow as tf\n",
    "import tensorflow_hub as hub\n",
    "import tensorflow_text as text"
   ]
  },
  {
   "cell_type": "code",
   "execution_count": 5,
   "id": "387a2f4c",
   "metadata": {},
   "outputs": [
    {
     "data": {
      "text/html": [
       "<div>\n",
       "<style scoped>\n",
       "    .dataframe tbody tr th:only-of-type {\n",
       "        vertical-align: middle;\n",
       "    }\n",
       "\n",
       "    .dataframe tbody tr th {\n",
       "        vertical-align: top;\n",
       "    }\n",
       "\n",
       "    .dataframe thead th {\n",
       "        text-align: right;\n",
       "    }\n",
       "</style>\n",
       "<table border=\"1\" class=\"dataframe\">\n",
       "  <thead>\n",
       "    <tr style=\"text-align: right;\">\n",
       "      <th></th>\n",
       "      <th>Unnamed: 0</th>\n",
       "      <th>label</th>\n",
       "      <th>text</th>\n",
       "      <th>label_num</th>\n",
       "    </tr>\n",
       "  </thead>\n",
       "  <tbody>\n",
       "    <tr>\n",
       "      <th>0</th>\n",
       "      <td>605</td>\n",
       "      <td>ham</td>\n",
       "      <td>Subject: enron methanol ; meter # : 988291\\r\\n...</td>\n",
       "      <td>0</td>\n",
       "    </tr>\n",
       "    <tr>\n",
       "      <th>1</th>\n",
       "      <td>2349</td>\n",
       "      <td>ham</td>\n",
       "      <td>Subject: hpl nom for january 9 , 2001\\r\\n( see...</td>\n",
       "      <td>0</td>\n",
       "    </tr>\n",
       "    <tr>\n",
       "      <th>2</th>\n",
       "      <td>3624</td>\n",
       "      <td>ham</td>\n",
       "      <td>Subject: neon retreat\\r\\nho ho ho , we ' re ar...</td>\n",
       "      <td>0</td>\n",
       "    </tr>\n",
       "    <tr>\n",
       "      <th>3</th>\n",
       "      <td>4685</td>\n",
       "      <td>spam</td>\n",
       "      <td>Subject: photoshop , windows , office . cheap ...</td>\n",
       "      <td>1</td>\n",
       "    </tr>\n",
       "    <tr>\n",
       "      <th>4</th>\n",
       "      <td>2030</td>\n",
       "      <td>ham</td>\n",
       "      <td>Subject: re : indian springs\\r\\nthis deal is t...</td>\n",
       "      <td>0</td>\n",
       "    </tr>\n",
       "  </tbody>\n",
       "</table>\n",
       "</div>"
      ],
      "text/plain": [
       "   Unnamed: 0 label                                               text  \\\n",
       "0         605   ham  Subject: enron methanol ; meter # : 988291\\r\\n...   \n",
       "1        2349   ham  Subject: hpl nom for january 9 , 2001\\r\\n( see...   \n",
       "2        3624   ham  Subject: neon retreat\\r\\nho ho ho , we ' re ar...   \n",
       "3        4685  spam  Subject: photoshop , windows , office . cheap ...   \n",
       "4        2030   ham  Subject: re : indian springs\\r\\nthis deal is t...   \n",
       "\n",
       "   label_num  \n",
       "0          0  \n",
       "1          0  \n",
       "2          0  \n",
       "3          1  \n",
       "4          0  "
      ]
     },
     "execution_count": 5,
     "metadata": {},
     "output_type": "execute_result"
    }
   ],
   "source": [
    "import pandas as pd\n",
    "df = pd.read_csv(\"spam.csv\")\n",
    "df.head()"
   ]
  },
  {
   "cell_type": "code",
   "execution_count": 6,
   "id": "f883149a",
   "metadata": {},
   "outputs": [
    {
     "data": {
      "text/html": [
       "<div>\n",
       "<style scoped>\n",
       "    .dataframe tbody tr th:only-of-type {\n",
       "        vertical-align: middle;\n",
       "    }\n",
       "\n",
       "    .dataframe tbody tr th {\n",
       "        vertical-align: top;\n",
       "    }\n",
       "\n",
       "    .dataframe thead tr th {\n",
       "        text-align: left;\n",
       "    }\n",
       "\n",
       "    .dataframe thead tr:last-of-type th {\n",
       "        text-align: right;\n",
       "    }\n",
       "</style>\n",
       "<table border=\"1\" class=\"dataframe\">\n",
       "  <thead>\n",
       "    <tr>\n",
       "      <th></th>\n",
       "      <th colspan=\"8\" halign=\"left\">Unnamed: 0</th>\n",
       "      <th colspan=\"8\" halign=\"left\">label_num</th>\n",
       "    </tr>\n",
       "    <tr>\n",
       "      <th></th>\n",
       "      <th>count</th>\n",
       "      <th>mean</th>\n",
       "      <th>std</th>\n",
       "      <th>min</th>\n",
       "      <th>25%</th>\n",
       "      <th>50%</th>\n",
       "      <th>75%</th>\n",
       "      <th>max</th>\n",
       "      <th>count</th>\n",
       "      <th>mean</th>\n",
       "      <th>std</th>\n",
       "      <th>min</th>\n",
       "      <th>25%</th>\n",
       "      <th>50%</th>\n",
       "      <th>75%</th>\n",
       "      <th>max</th>\n",
       "    </tr>\n",
       "    <tr>\n",
       "      <th>label</th>\n",
       "      <th></th>\n",
       "      <th></th>\n",
       "      <th></th>\n",
       "      <th></th>\n",
       "      <th></th>\n",
       "      <th></th>\n",
       "      <th></th>\n",
       "      <th></th>\n",
       "      <th></th>\n",
       "      <th></th>\n",
       "      <th></th>\n",
       "      <th></th>\n",
       "      <th></th>\n",
       "      <th></th>\n",
       "      <th></th>\n",
       "      <th></th>\n",
       "    </tr>\n",
       "  </thead>\n",
       "  <tbody>\n",
       "    <tr>\n",
       "      <th>ham</th>\n",
       "      <td>3672.0</td>\n",
       "      <td>1835.5</td>\n",
       "      <td>1060.159422</td>\n",
       "      <td>0.0</td>\n",
       "      <td>917.75</td>\n",
       "      <td>1835.5</td>\n",
       "      <td>2753.25</td>\n",
       "      <td>3671.0</td>\n",
       "      <td>3672.0</td>\n",
       "      <td>0.0</td>\n",
       "      <td>0.0</td>\n",
       "      <td>0.0</td>\n",
       "      <td>0.0</td>\n",
       "      <td>0.0</td>\n",
       "      <td>0.0</td>\n",
       "      <td>0.0</td>\n",
       "    </tr>\n",
       "    <tr>\n",
       "      <th>spam</th>\n",
       "      <td>1499.0</td>\n",
       "      <td>4421.0</td>\n",
       "      <td>432.868340</td>\n",
       "      <td>3672.0</td>\n",
       "      <td>4046.50</td>\n",
       "      <td>4421.0</td>\n",
       "      <td>4795.50</td>\n",
       "      <td>5170.0</td>\n",
       "      <td>1499.0</td>\n",
       "      <td>1.0</td>\n",
       "      <td>0.0</td>\n",
       "      <td>1.0</td>\n",
       "      <td>1.0</td>\n",
       "      <td>1.0</td>\n",
       "      <td>1.0</td>\n",
       "      <td>1.0</td>\n",
       "    </tr>\n",
       "  </tbody>\n",
       "</table>\n",
       "</div>"
      ],
      "text/plain": [
       "      Unnamed: 0                                                         \\\n",
       "           count    mean          std     min      25%     50%      75%   \n",
       "label                                                                     \n",
       "ham       3672.0  1835.5  1060.159422     0.0   917.75  1835.5  2753.25   \n",
       "spam      1499.0  4421.0   432.868340  3672.0  4046.50  4421.0  4795.50   \n",
       "\n",
       "              label_num                                     \n",
       "          max     count mean  std  min  25%  50%  75%  max  \n",
       "label                                                       \n",
       "ham    3671.0    3672.0  0.0  0.0  0.0  0.0  0.0  0.0  0.0  \n",
       "spam   5170.0    1499.0  1.0  0.0  1.0  1.0  1.0  1.0  1.0  "
      ]
     },
     "execution_count": 6,
     "metadata": {},
     "output_type": "execute_result"
    }
   ],
   "source": [
    "df.groupby('label').describe()"
   ]
  },
  {
   "cell_type": "code",
   "execution_count": 7,
   "id": "0eb2672b",
   "metadata": {},
   "outputs": [
    {
     "data": {
      "text/plain": [
       "ham     3672\n",
       "spam    1499\n",
       "Name: label, dtype: int64"
      ]
     },
     "execution_count": 7,
     "metadata": {},
     "output_type": "execute_result"
    }
   ],
   "source": [
    "df['label'].value_counts()"
   ]
  },
  {
   "cell_type": "code",
   "execution_count": 8,
   "id": "bc8f9f18",
   "metadata": {},
   "outputs": [
    {
     "data": {
      "text/plain": [
       "(1499, 4)"
      ]
     },
     "execution_count": 8,
     "metadata": {},
     "output_type": "execute_result"
    }
   ],
   "source": [
    "df_spam = df[df['label']== 'spam']\n",
    "df_spam.shape"
   ]
  },
  {
   "cell_type": "code",
   "execution_count": 9,
   "id": "78fc1c9d",
   "metadata": {},
   "outputs": [
    {
     "data": {
      "text/plain": [
       "(3672, 4)"
      ]
     },
     "execution_count": 9,
     "metadata": {},
     "output_type": "execute_result"
    }
   ],
   "source": [
    "df_ham = df[df['label']== 'ham']\n",
    "df_ham.shape"
   ]
  },
  {
   "cell_type": "markdown",
   "id": "f06f2beb",
   "metadata": {},
   "source": [
    "# downsampling "
   ]
  },
  {
   "cell_type": "code",
   "execution_count": 40,
   "id": "34199d8f",
   "metadata": {},
   "outputs": [
    {
     "data": {
      "text/plain": [
       "(1499, 4)"
      ]
     },
     "execution_count": 40,
     "metadata": {},
     "output_type": "execute_result"
    }
   ],
   "source": [
    "df_ham_downsampled = df_ham.sample(df_spam.shape[0])\n",
    "df_ham_downsampled.shape"
   ]
  },
  {
   "cell_type": "code",
   "execution_count": 41,
   "id": "07eec26b",
   "metadata": {},
   "outputs": [
    {
     "data": {
      "text/plain": [
       "(2998, 4)"
      ]
     },
     "execution_count": 41,
     "metadata": {},
     "output_type": "execute_result"
    }
   ],
   "source": [
    "df_balanced = pd.concat([df_spam, df_ham_downsampled])\n",
    "df_balanced.shape"
   ]
  },
  {
   "cell_type": "code",
   "execution_count": 42,
   "id": "5cf4a30b",
   "metadata": {},
   "outputs": [
    {
     "data": {
      "text/html": [
       "<div>\n",
       "<style scoped>\n",
       "    .dataframe tbody tr th:only-of-type {\n",
       "        vertical-align: middle;\n",
       "    }\n",
       "\n",
       "    .dataframe tbody tr th {\n",
       "        vertical-align: top;\n",
       "    }\n",
       "\n",
       "    .dataframe thead th {\n",
       "        text-align: right;\n",
       "    }\n",
       "</style>\n",
       "<table border=\"1\" class=\"dataframe\">\n",
       "  <thead>\n",
       "    <tr style=\"text-align: right;\">\n",
       "      <th></th>\n",
       "      <th>Unnamed: 0</th>\n",
       "      <th>label</th>\n",
       "      <th>text</th>\n",
       "      <th>label_num</th>\n",
       "    </tr>\n",
       "  </thead>\n",
       "  <tbody>\n",
       "    <tr>\n",
       "      <th>3439</th>\n",
       "      <td>3902</td>\n",
       "      <td>spam</td>\n",
       "      <td>Subject: just a thought\\r\\non tkns\\r\\nor the s...</td>\n",
       "      <td>1</td>\n",
       "    </tr>\n",
       "    <tr>\n",
       "      <th>1461</th>\n",
       "      <td>4361</td>\n",
       "      <td>spam</td>\n",
       "      <td>Subject: sex that hurts - stretch till they sq...</td>\n",
       "      <td>1</td>\n",
       "    </tr>\n",
       "    <tr>\n",
       "      <th>4398</th>\n",
       "      <td>4504</td>\n",
       "      <td>spam</td>\n",
       "      <td>Subject: fwd : [ centimeters ] 64 % - off vico...</td>\n",
       "      <td>1</td>\n",
       "    </tr>\n",
       "    <tr>\n",
       "      <th>2493</th>\n",
       "      <td>3713</td>\n",
       "      <td>spam</td>\n",
       "      <td>Subject: learn to make a fortune on ebay !\\r\\n</td>\n",
       "      <td>1</td>\n",
       "    </tr>\n",
       "    <tr>\n",
       "      <th>4987</th>\n",
       "      <td>4905</td>\n",
       "      <td>spam</td>\n",
       "      <td>Subject: live large - rolex replicas online !\\...</td>\n",
       "      <td>1</td>\n",
       "    </tr>\n",
       "  </tbody>\n",
       "</table>\n",
       "</div>"
      ],
      "text/plain": [
       "      Unnamed: 0 label                                               text  \\\n",
       "3439        3902  spam  Subject: just a thought\\r\\non tkns\\r\\nor the s...   \n",
       "1461        4361  spam  Subject: sex that hurts - stretch till they sq...   \n",
       "4398        4504  spam  Subject: fwd : [ centimeters ] 64 % - off vico...   \n",
       "2493        3713  spam     Subject: learn to make a fortune on ebay !\\r\\n   \n",
       "4987        4905  spam  Subject: live large - rolex replicas online !\\...   \n",
       "\n",
       "      label_num  \n",
       "3439          1  \n",
       "1461          1  \n",
       "4398          1  \n",
       "2493          1  \n",
       "4987          1  "
      ]
     },
     "execution_count": 42,
     "metadata": {},
     "output_type": "execute_result"
    }
   ],
   "source": [
    "df_balanced['label'].value_counts()\n",
    "df_balanced.sample(5)"
   ]
  },
  {
   "cell_type": "markdown",
   "id": "8ad0bcdb",
   "metadata": {},
   "source": [
    "# train, test, split"
   ]
  },
  {
   "cell_type": "code",
   "execution_count": 43,
   "id": "74ce212f",
   "metadata": {},
   "outputs": [
    {
     "data": {
      "text/html": [
       "<div>\n",
       "<style scoped>\n",
       "    .dataframe tbody tr th:only-of-type {\n",
       "        vertical-align: middle;\n",
       "    }\n",
       "\n",
       "    .dataframe tbody tr th {\n",
       "        vertical-align: top;\n",
       "    }\n",
       "\n",
       "    .dataframe thead th {\n",
       "        text-align: right;\n",
       "    }\n",
       "</style>\n",
       "<table border=\"1\" class=\"dataframe\">\n",
       "  <thead>\n",
       "    <tr style=\"text-align: right;\">\n",
       "      <th></th>\n",
       "      <th>Unnamed: 0</th>\n",
       "      <th>label</th>\n",
       "      <th>text</th>\n",
       "      <th>label_num</th>\n",
       "      <th>spam</th>\n",
       "    </tr>\n",
       "  </thead>\n",
       "  <tbody>\n",
       "    <tr>\n",
       "      <th>4239</th>\n",
       "      <td>2400</td>\n",
       "      <td>ham</td>\n",
       "      <td>Subject: your amazon . com order ( # 104 - 967...</td>\n",
       "      <td>0</td>\n",
       "      <td>0</td>\n",
       "    </tr>\n",
       "    <tr>\n",
       "      <th>333</th>\n",
       "      <td>4200</td>\n",
       "      <td>spam</td>\n",
       "      <td>Subject: vietnam\\r\\nphysiotherapy agnes .\\r\\n@...</td>\n",
       "      <td>1</td>\n",
       "      <td>1</td>\n",
       "    </tr>\n",
       "    <tr>\n",
       "      <th>5152</th>\n",
       "      <td>4778</td>\n",
       "      <td>spam</td>\n",
       "      <td>Subject: oxyyyyconttin no script needeeed\\r\\n{...</td>\n",
       "      <td>1</td>\n",
       "      <td>1</td>\n",
       "    </tr>\n",
       "    <tr>\n",
       "      <th>3360</th>\n",
       "      <td>988</td>\n",
       "      <td>ham</td>\n",
       "      <td>Subject: ei 314 revised availability effective...</td>\n",
       "      <td>0</td>\n",
       "      <td>0</td>\n",
       "    </tr>\n",
       "    <tr>\n",
       "      <th>1107</th>\n",
       "      <td>1136</td>\n",
       "      <td>ham</td>\n",
       "      <td>Subject: hpl noms for july 6 , 2000\\r\\n( see a...</td>\n",
       "      <td>0</td>\n",
       "      <td>0</td>\n",
       "    </tr>\n",
       "  </tbody>\n",
       "</table>\n",
       "</div>"
      ],
      "text/plain": [
       "      Unnamed: 0 label                                               text  \\\n",
       "4239        2400   ham  Subject: your amazon . com order ( # 104 - 967...   \n",
       "333         4200  spam  Subject: vietnam\\r\\nphysiotherapy agnes .\\r\\n@...   \n",
       "5152        4778  spam  Subject: oxyyyyconttin no script needeeed\\r\\n{...   \n",
       "3360         988   ham  Subject: ei 314 revised availability effective...   \n",
       "1107        1136   ham  Subject: hpl noms for july 6 , 2000\\r\\n( see a...   \n",
       "\n",
       "      label_num  spam  \n",
       "4239          0     0  \n",
       "333           1     1  \n",
       "5152          1     1  \n",
       "3360          0     0  \n",
       "1107          0     0  "
      ]
     },
     "execution_count": 43,
     "metadata": {},
     "output_type": "execute_result"
    }
   ],
   "source": [
    "df_balanced['spam'] = df_balanced['label'].apply(lambda x:1 if x== 'spam' else 0)\n",
    "df_balanced.sample(5)"
   ]
  },
  {
   "cell_type": "code",
   "execution_count": 44,
   "id": "9c4a539e",
   "metadata": {
    "collapsed": true
   },
   "outputs": [
    {
     "name": "stdout",
     "output_type": "stream",
     "text": [
      "Defaulting to user installation because normal site-packages is not writeable\n",
      "Requirement already satisfied: sklearn in ./.local/lib/python3.8/site-packages (0.0)\n",
      "Requirement already satisfied: scikit-learn in /usr/local/anaconda/lib/python3.8/site-packages (from sklearn) (0.24.1)\n",
      "Requirement already satisfied: scipy>=0.19.1 in /usr/local/anaconda/lib/python3.8/site-packages (from scikit-learn->sklearn) (1.6.2)\n",
      "Requirement already satisfied: numpy>=1.13.3 in /usr/local/anaconda/lib/python3.8/site-packages (from scikit-learn->sklearn) (1.20.1)\n",
      "Requirement already satisfied: threadpoolctl>=2.0.0 in /usr/local/anaconda/lib/python3.8/site-packages (from scikit-learn->sklearn) (2.1.0)\n",
      "Requirement already satisfied: joblib>=0.11 in /usr/local/anaconda/lib/python3.8/site-packages (from scikit-learn->sklearn) (1.0.1)\n"
     ]
    }
   ],
   "source": [
    "!pip install sklearn"
   ]
  },
  {
   "cell_type": "code",
   "execution_count": 45,
   "id": "d519e633",
   "metadata": {},
   "outputs": [],
   "source": [
    "from sklearn.model_selection import train_test_split\n",
    "\n",
    "X_train, X_test, y_train, y_test = train_test_split(df_balanced['text'],df_balanced['spam'],stratify = df_balanced['spam'])\n"
   ]
  },
  {
   "cell_type": "code",
   "execution_count": 46,
   "id": "ff18d2bb",
   "metadata": {},
   "outputs": [
    {
     "data": {
      "text/plain": [
       "3745    Subject: miningnews . net newsletter - friday ...\n",
       "2082    Subject: re :\\r\\nyour needed soffttwares at ro...\n",
       "3790    Subject: mcmullen outage\\r\\n- - - - - - - - - ...\n",
       "2445    Subject: randal , i can help you\\r\\never been ...\n",
       "Name: text, dtype: object"
      ]
     },
     "execution_count": 46,
     "metadata": {},
     "output_type": "execute_result"
    }
   ],
   "source": [
    "X_train.head(4)"
   ]
  },
  {
   "cell_type": "code",
   "execution_count": 47,
   "id": "2d55a80f",
   "metadata": {},
   "outputs": [],
   "source": [
    "bert_preprocess = hub.KerasLayer(\"https://tfhub.dev/tensorflow/bert_en_uncased_preprocess/3\")\n",
    "bert_encoder = hub.KerasLayer(\"https://tfhub.dev/tensorflow/bert_en_uncased_L-12_H-768_A-12/4\")"
   ]
  },
  {
   "cell_type": "code",
   "execution_count": 48,
   "id": "d8b48867",
   "metadata": {},
   "outputs": [
    {
     "data": {
      "text/plain": [
       "<tf.Tensor: shape=(2, 768), dtype=float32, numpy=\n",
       "array([[-0.843517  , -0.5132724 , -0.8884571 , ..., -0.7474883 ,\n",
       "        -0.75314736,  0.91964495],\n",
       "       [-0.8127742 , -0.47144204, -0.8961091 , ..., -0.70256007,\n",
       "        -0.65957814,  0.83574665]], dtype=float32)>"
      ]
     },
     "execution_count": 48,
     "metadata": {},
     "output_type": "execute_result"
    }
   ],
   "source": [
    "def get_sentence_embedding(sentences):\n",
    "    preprocessed_text = bert_preprocess(sentences)\n",
    "    return bert_encoder(preprocessed_text)['pooled_output']\n",
    "get_sentence_embedding([\n",
    "    \"500$ discount. hurry up\",\n",
    "    \"Bhavin, are you up for a volleyball game tommorrow?\"\n",
    "])"
   ]
  },
  {
   "cell_type": "code",
   "execution_count": 49,
   "id": "7f9345b5",
   "metadata": {},
   "outputs": [],
   "source": [
    "e = get_sentence_embedding([\n",
    "    \"banana\",\n",
    "    \"grapes\",\n",
    "    \"mango\",\n",
    "    \"jeff bezos\",\n",
    "    \"elon mask\",\n",
    "    \"bill gates\"\n",
    "])"
   ]
  },
  {
   "cell_type": "code",
   "execution_count": 50,
   "id": "aa5817b0",
   "metadata": {},
   "outputs": [
    {
     "data": {
      "text/plain": [
       "<tf.Tensor: shape=(6, 768), dtype=float32, numpy=\n",
       "array([[-0.7606918 , -0.14219393,  0.49604616, ...,  0.42165297,\n",
       "        -0.5322141 ,  0.8031217 ],\n",
       "       [-0.86023206, -0.21242923,  0.4915701 , ...,  0.397981  ,\n",
       "        -0.6050628 ,  0.8447163 ],\n",
       "       [-0.71288633, -0.1546394 ,  0.38401547, ...,  0.35278675,\n",
       "        -0.5099136 ,  0.7347412 ],\n",
       "       [-0.82533467, -0.35550585, -0.5906973 , ..., -0.01613814,\n",
       "        -0.6141758 ,  0.87230283],\n",
       "       [-0.896728  , -0.42045638, -0.38606536, ..., -0.13229051,\n",
       "        -0.66669166,  0.9103785 ],\n",
       "       [-0.7854439 , -0.299497  ,  0.4102738 , ...,  0.52225393,\n",
       "        -0.4957358 ,  0.8150753 ]], dtype=float32)>"
      ]
     },
     "execution_count": 50,
     "metadata": {},
     "output_type": "execute_result"
    }
   ],
   "source": [
    "e"
   ]
  },
  {
   "cell_type": "code",
   "execution_count": 51,
   "id": "efb2d8fb",
   "metadata": {},
   "outputs": [
    {
     "data": {
      "text/plain": [
       "array([[1.       , 0.9800436],\n",
       "       [0.9800436, 0.9999998]], dtype=float32)"
      ]
     },
     "execution_count": 51,
     "metadata": {},
     "output_type": "execute_result"
    }
   ],
   "source": [
    "from sklearn.metrics.pairwise import cosine_similarity\n",
    "cosine_similarity([e[3],e[4]])"
   ]
  },
  {
   "cell_type": "code",
   "execution_count": 52,
   "id": "cb60ce2f",
   "metadata": {},
   "outputs": [],
   "source": [
    "text_input = tf.keras.layers.Input(shape= (),dtype= tf.string,name = \"text\")\n",
    "preprocessed_text = bert_preprocess(text_input)\n",
    "outputs = bert_encoder(preprocessed_text)\n",
    "\n",
    "\n",
    "l = tf.keras.layers.Dropout(0.1,name = 'dropout')(outputs['pooled_output'])\n",
    "l = tf.keras.layers.Dense(1, activation = 'sigmoid', name = 'output')(l)\n",
    "\n",
    "\n",
    "model = tf.keras.Model(inputs = [text_input], outputs = [l])"
   ]
  },
  {
   "cell_type": "code",
   "execution_count": 53,
   "id": "36bb826a",
   "metadata": {
    "scrolled": true
   },
   "outputs": [
    {
     "name": "stdout",
     "output_type": "stream",
     "text": [
      "Model: \"model_1\"\n",
      "__________________________________________________________________________________________________\n",
      " Layer (type)                   Output Shape         Param #     Connected to                     \n",
      "==================================================================================================\n",
      " text (InputLayer)              [(None,)]            0           []                               \n",
      "                                                                                                  \n",
      " keras_layer_2 (KerasLayer)     {'input_type_ids':   0           ['text[0][0]']                   \n",
      "                                (None, 128),                                                      \n",
      "                                 'input_mask': (Non                                               \n",
      "                                e, 128),                                                          \n",
      "                                 'input_word_ids':                                                \n",
      "                                (None, 128)}                                                      \n",
      "                                                                                                  \n",
      " keras_layer_3 (KerasLayer)     {'sequence_output':  109482241   ['keras_layer_2[0][0]',          \n",
      "                                 (None, 128, 768),                'keras_layer_2[0][1]',          \n",
      "                                 'pooled_output': (               'keras_layer_2[0][2]']          \n",
      "                                None, 768),                                                       \n",
      "                                 'encoder_outputs':                                               \n",
      "                                 [(None, 128, 768),                                               \n",
      "                                 (None, 128, 768),                                                \n",
      "                                 (None, 128, 768),                                                \n",
      "                                 (None, 128, 768),                                                \n",
      "                                 (None, 128, 768),                                                \n",
      "                                 (None, 128, 768),                                                \n",
      "                                 (None, 128, 768),                                                \n",
      "                                 (None, 128, 768),                                                \n",
      "                                 (None, 128, 768),                                                \n",
      "                                 (None, 128, 768),                                                \n",
      "                                 (None, 128, 768),                                                \n",
      "                                 (None, 128, 768)],                                               \n",
      "                                 'default': (None,                                                \n",
      "                                768)}                                                             \n",
      "                                                                                                  \n",
      " dropout (Dropout)              (None, 768)          0           ['keras_layer_3[0][13]']         \n",
      "                                                                                                  \n",
      " output (Dense)                 (None, 1)            769         ['dropout[0][0]']                \n",
      "                                                                                                  \n",
      "==================================================================================================\n",
      "Total params: 109,483,010\n",
      "Trainable params: 769\n",
      "Non-trainable params: 109,482,241\n",
      "__________________________________________________________________________________________________\n"
     ]
    }
   ],
   "source": [
    "model.summary()"
   ]
  },
  {
   "cell_type": "code",
   "execution_count": 54,
   "id": "43dfc365",
   "metadata": {},
   "outputs": [],
   "source": [
    "METRICS = [\n",
    "    tf.keras.metrics.BinaryAccuracy(name = 'accuracy'),\n",
    "    tf.keras.metrics.Precision(name = 'precision'),\n",
    "    tf.keras.metrics.Recall(name = 'recall')\n",
    "]\n",
    "\n",
    "model.compile(optimizer = 'adam',\n",
    "             loss = 'binary_crossentropy',\n",
    "             metrics = METRICS)"
   ]
  },
  {
   "cell_type": "code",
   "execution_count": 55,
   "id": "dee22bb9",
   "metadata": {
    "scrolled": true
   },
   "outputs": [
    {
     "name": "stdout",
     "output_type": "stream",
     "text": [
      "Epoch 1/10\n",
      "71/71 [==============================] - 2358s 33s/step - loss: 0.6305 - accuracy: 0.6481 - precision: 0.6593 - recall: 0.6130\n",
      "Epoch 2/10\n",
      "71/71 [==============================] - 2250s 32s/step - loss: 0.5611 - accuracy: 0.7109 - precision: 0.7170 - recall: 0.6966\n",
      "Epoch 3/10\n",
      "71/71 [==============================] - 2215s 31s/step - loss: 0.5208 - accuracy: 0.7469 - precision: 0.7581 - recall: 0.7251\n",
      "Epoch 4/10\n",
      "71/71 [==============================] - 2329s 33s/step - loss: 0.4800 - accuracy: 0.7909 - precision: 0.8079 - recall: 0.7633\n",
      "Epoch 5/10\n",
      "71/71 [==============================] - 2272s 32s/step - loss: 0.4467 - accuracy: 0.8203 - precision: 0.8285 - recall: 0.8078\n",
      "Epoch 6/10\n",
      "71/71 [==============================] - 2261s 32s/step - loss: 0.4256 - accuracy: 0.8376 - precision: 0.8434 - recall: 0.8292\n",
      "Epoch 7/10\n",
      "71/71 [==============================] - 2250s 32s/step - loss: 0.4047 - accuracy: 0.8528 - precision: 0.8569 - recall: 0.8470\n",
      "Epoch 8/10\n",
      "71/71 [==============================] - 2311s 33s/step - loss: 0.3870 - accuracy: 0.8665 - precision: 0.8745 - recall: 0.8559\n",
      "Epoch 9/10\n",
      "71/71 [==============================] - 2582s 36s/step - loss: 0.3715 - accuracy: 0.8630 - precision: 0.8636 - recall: 0.8621\n",
      "Epoch 10/10\n",
      "71/71 [==============================] - 2301s 32s/step - loss: 0.3587 - accuracy: 0.8746 - precision: 0.8841 - recall: 0.8621\n"
     ]
    },
    {
     "data": {
      "text/plain": [
       "<keras.callbacks.History at 0x7fa28ae93550>"
      ]
     },
     "execution_count": 55,
     "metadata": {},
     "output_type": "execute_result"
    }
   ],
   "source": [
    "model.fit(X_train,y_train,epochs = 10)"
   ]
  },
  {
   "cell_type": "code",
   "execution_count": 56,
   "id": "9bc309bc",
   "metadata": {
    "scrolled": true
   },
   "outputs": [
    {
     "name": "stdout",
     "output_type": "stream",
     "text": [
      "24/24 [==============================] - 995s 41s/step - loss: 0.3288 - accuracy: 0.8973 - precision: 0.9071 - recall: 0.8853\n"
     ]
    },
    {
     "data": {
      "text/plain": [
       "[0.3287537395954132,\n",
       " 0.8973333239555359,\n",
       " 0.9071038365364075,\n",
       " 0.8853333592414856]"
      ]
     },
     "execution_count": 56,
     "metadata": {},
     "output_type": "execute_result"
    }
   ],
   "source": [
    "model.evaluate(X_test,y_test)"
   ]
  },
  {
   "cell_type": "code",
   "execution_count": 57,
   "id": "67717d13",
   "metadata": {},
   "outputs": [],
   "source": [
    "y_predicted = model.predict(X_test)\n",
    "y_predicted = y_predicted.flatten()"
   ]
  },
  {
   "cell_type": "code",
   "execution_count": 58,
   "id": "94b451f8",
   "metadata": {},
   "outputs": [],
   "source": [
    "import numpy as np"
   ]
  },
  {
   "cell_type": "code",
   "execution_count": 59,
   "id": "a8a2dd3a",
   "metadata": {},
   "outputs": [],
   "source": [
    "y_predicted = np.where(y_predicted>0.5, 1 , 0)\n"
   ]
  },
  {
   "cell_type": "code",
   "execution_count": 60,
   "id": "a03d3d3b",
   "metadata": {},
   "outputs": [
    {
     "data": {
      "text/plain": [
       "array([1, 1, 0, 0, 1, 0, 0, 0, 0, 0, 1, 0, 0, 0, 1, 1, 1, 0, 0, 0, 0, 0,\n",
       "       1, 1, 1, 1, 0, 1, 1, 0, 0, 1, 1, 1, 1, 1, 1, 0, 0, 0, 0, 0, 1, 0,\n",
       "       1, 0, 0, 1, 1, 1, 0, 1, 1, 0, 1, 1, 0, 1, 0, 0, 0, 1, 0, 1, 0, 1,\n",
       "       0, 0, 1, 0, 1, 0, 1, 1, 0, 1, 1, 1, 0, 1, 0, 1, 1, 0, 0, 1, 1, 1,\n",
       "       0, 0, 1, 1, 0, 0, 1, 0, 1, 1, 0, 1, 0, 0, 1, 0, 0, 1, 0, 1, 1, 1,\n",
       "       0, 0, 0, 1, 1, 1, 0, 1, 1, 0, 1, 1, 0, 0, 0, 1, 0, 1, 0, 0, 1, 0,\n",
       "       0, 1, 0, 1, 1, 0, 0, 0, 0, 1, 0, 1, 0, 0, 0, 0, 0, 0, 0, 1, 1, 1,\n",
       "       0, 1, 0, 1, 0, 1, 0, 0, 1, 1, 0, 1, 0, 0, 0, 1, 0, 1, 1, 0, 0, 0,\n",
       "       0, 1, 1, 0, 0, 0, 0, 0, 1, 1, 0, 1, 1, 1, 1, 1, 0, 0, 1, 1, 0, 1,\n",
       "       1, 1, 1, 0, 0, 0, 1, 0, 0, 0, 0, 1, 1, 0, 1, 1, 0, 1, 0, 0, 0, 1,\n",
       "       1, 1, 0, 1, 1, 1, 1, 1, 0, 0, 1, 1, 0, 1, 1, 1, 1, 1, 0, 1, 1, 1,\n",
       "       1, 0, 1, 0, 0, 1, 1, 1, 1, 1, 0, 0, 1, 0, 0, 0, 0, 1, 0, 1, 1, 1,\n",
       "       1, 0, 0, 0, 0, 1, 0, 0, 1, 1, 1, 0, 0, 1, 0, 0, 1, 0, 0, 1, 0, 0,\n",
       "       0, 1, 1, 0, 1, 0, 0, 0, 0, 0, 1, 0, 0, 0, 1, 0, 1, 1, 1, 0, 1, 1,\n",
       "       1, 1, 1, 1, 1, 0, 0, 1, 0, 0, 0, 0, 0, 1, 1, 1, 0, 1, 0, 1, 0, 1,\n",
       "       0, 0, 0, 1, 1, 0, 1, 1, 0, 0, 1, 0, 0, 0, 1, 1, 0, 1, 0, 0, 0, 1,\n",
       "       0, 0, 0, 0, 1, 1, 1, 0, 1, 1, 1, 1, 1, 1, 0, 0, 1, 0, 0, 1, 0, 0,\n",
       "       0, 1, 1, 0, 0, 0, 1, 0, 1, 1, 1, 1, 1, 0, 1, 0, 0, 0, 1, 1, 1, 1,\n",
       "       0, 0, 1, 0, 1, 1, 1, 0, 1, 0, 0, 0, 0, 0, 0, 1, 0, 0, 1, 0, 1, 1,\n",
       "       0, 0, 0, 1, 1, 0, 0, 1, 0, 0, 1, 0, 1, 0, 0, 1, 0, 0, 0, 0, 0, 1,\n",
       "       0, 0, 0, 0, 1, 0, 1, 1, 1, 1, 1, 1, 0, 0, 1, 1, 0, 0, 0, 1, 1, 0,\n",
       "       1, 0, 1, 1, 0, 1, 0, 0, 1, 0, 1, 0, 1, 0, 0, 1, 1, 1, 0, 0, 1, 1,\n",
       "       1, 0, 1, 0, 0, 0, 1, 1, 0, 0, 1, 1, 0, 0, 0, 1, 1, 1, 0, 0, 1, 1,\n",
       "       1, 0, 1, 1, 1, 0, 1, 1, 0, 0, 1, 1, 0, 0, 1, 0, 0, 0, 0, 1, 1, 1,\n",
       "       1, 1, 0, 0, 1, 0, 1, 0, 0, 0, 1, 1, 0, 0, 0, 1, 0, 0, 0, 0, 1, 1,\n",
       "       0, 0, 1, 1, 0, 0, 0, 0, 0, 1, 0, 1, 1, 0, 0, 1, 0, 0, 1, 1, 1, 0,\n",
       "       0, 0, 0, 0, 1, 0, 1, 0, 1, 0, 1, 1, 1, 0, 1, 0, 0, 0, 0, 1, 0, 0,\n",
       "       1, 1, 1, 0, 1, 0, 1, 0, 0, 1, 1, 1, 1, 1, 0, 1, 1, 1, 1, 0, 1, 0,\n",
       "       1, 0, 1, 0, 1, 1, 1, 0, 0, 1, 0, 0, 0, 1, 0, 0, 1, 1, 1, 1, 1, 1,\n",
       "       0, 1, 0, 1, 0, 1, 0, 0, 0, 0, 0, 1, 0, 0, 1, 0, 1, 1, 0, 1, 0, 1,\n",
       "       1, 1, 0, 1, 1, 1, 0, 0, 0, 1, 1, 0, 0, 0, 0, 1, 1, 1, 1, 0, 1, 0,\n",
       "       1, 0, 0, 1, 0, 1, 1, 1, 1, 0, 1, 0, 0, 1, 0, 1, 1, 0, 1, 0, 1, 0,\n",
       "       1, 0, 0, 1, 1, 1, 0, 0, 0, 1, 0, 0, 1, 0, 1, 0, 0, 0, 0, 0, 1, 1,\n",
       "       0, 0, 1, 1, 1, 1, 1, 1, 0, 0, 1, 0, 0, 1, 0, 0, 1, 0, 0, 0, 1, 0,\n",
       "       1, 0])"
      ]
     },
     "execution_count": 60,
     "metadata": {},
     "output_type": "execute_result"
    }
   ],
   "source": [
    "y_predicted"
   ]
  },
  {
   "cell_type": "code",
   "execution_count": 61,
   "id": "2509c0ca",
   "metadata": {},
   "outputs": [],
   "source": [
    "from sklearn.metrics import confusion_matrix,classification_report\n",
    "cm = confusion_matrix(y_test, y_predicted)"
   ]
  },
  {
   "cell_type": "code",
   "execution_count": 62,
   "id": "bebec778",
   "metadata": {},
   "outputs": [
    {
     "data": {
      "text/plain": [
       "array([[341,  34],\n",
       "       [ 43, 332]])"
      ]
     },
     "execution_count": 62,
     "metadata": {},
     "output_type": "execute_result"
    }
   ],
   "source": [
    "cm"
   ]
  },
  {
   "cell_type": "code",
   "execution_count": 63,
   "id": "4aeeee55",
   "metadata": {},
   "outputs": [
    {
     "data": {
      "text/plain": [
       "Text(33.0, 0.5, 'Truth')"
      ]
     },
     "execution_count": 63,
     "metadata": {},
     "output_type": "execute_result"
    },
    {
     "data": {
      "image/png": "[encoded data removed]",
      "text/plain": [
       "<Figure size 432x288 with 2 Axes>"
      ]
     },
     "metadata": {
      "needs_background": "light"
     },
     "output_type": "display_data"
    }
   ],
   "source": [
    "from matplotlib import pyplot as plt\n",
    "import seaborn as sn\n",
    "sn.heatmap(cm,annot = True, fmt = 'd')\n",
    "plt.xlabel('Predicted')\n",
    "plt.ylabel('Truth')"
   ]
  },
  {
   "cell_type": "code",
   "execution_count": 39,
   "id": "93e6a78e",
   "metadata": {},
   "outputs": [
    {
     "name": "stdout",
     "output_type": "stream",
     "text": [
      "              precision    recall  f1-score   support\n",
      "\n",
      "           0       0.82      0.91      0.86       375\n",
      "           1       0.90      0.80      0.85       375\n",
      "\n",
      "    accuracy                           0.86       750\n",
      "   macro avg       0.86      0.86      0.86       750\n",
      "weighted avg       0.86      0.86      0.86       750\n",
      "\n"
     ]
    }
   ],
   "source": [
    "print(classification_report(y_test, y_predicted))"
   ]
  },
  {
   "cell_type": "code",
   "execution_count": null,
   "id": "0099e781",
   "metadata": {},
   "outputs": [],
   "source": []
  }
 ],
 "metadata": {
  "kernelspec": {
   "display_name": "Python 3",
   "language": "python",
   "name": "python3"
  },
  "language_info": {
   "codemirror_mode": {
    "name": "ipython",
    "version": 3
   },
   "file_extension": ".py",
   "mimetype": "text/x-python",
   "name": "python",
   "nbconvert_exporter": "python",
   "pygments_lexer": "ipython3",
   "version": "3.8.8"
  }
 },
 "nbformat": 4,
 "nbformat_minor": 5
}
